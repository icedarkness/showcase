{
 "cells": [
  {
   "cell_type": "markdown",
   "id": "ae745584",
   "metadata": {},
   "source": [
    "# Project 3: Customer Segmentation for Targeted Marketing\n",
    "\n",
    "**Objective:** To use unsupervised machine learning (K-Means clustering) to segment customers based on their financial profiles and then propose targeted marketing strategies for each segment in a lending context.\n",
    "\n",
    "**Dataset:** Mall Customer Segmentation Data (from Kaggle), which includes `Age`, `Annual Income`, and `Spending Score`.\n",
    "\n",
    "**Workflow:**\n",
    "1.  Data Loading and Exploratory Data Analysis (EDA)\n",
    "2.  Feature Selection and Scaling\n",
    "3.  Determining the Optimal Number of Clusters (Elbow Method)\n",
    "4.  Building the K-Means Clustering Model\n",
    "5.  Visualizing, Interpreting, and Proposing Marketing Strategies\n",
    "\n",
    "---\n",
    "### **Step 0: Import Libraries**\n",
    "---"
   ]
  },
  {
   "cell_type": "code",
   "execution_count": 3,
   "id": "376b61a7",
   "metadata": {},
   "outputs": [],
   "source": [
    "import pandas as pd\n",
    "import numpy as np\n",
    "import matplotlib.pyplot as plt\n",
    "import seaborn as sns\n",
    "\n",
    "# Scikit-learn\n",
    "from sklearn.preprocessing import StandardScaler\n",
    "from sklearn.cluster import KMeans\n",
    "\n",
    "# Settings\n",
    "sns.set_style('whitegrid')\n",
    "plt.style.use('seaborn-v0_8-darkgrid')"
   ]
  },
  {
   "cell_type": "markdown",
   "id": "8da1c6af",
   "metadata": {},
   "source": [
    "---\n",
    "### **Step 1: Data Loading and Exploratory Data Analysis (EDA)**\n",
    "---"
   ]
  },
  {
   "cell_type": "code",
   "execution_count": null,
   "id": "2e40735a",
   "metadata": {},
   "outputs": [
    {
     "ename": "ValueError",
     "evalue": "All arrays must be of the same length",
     "output_type": "error",
     "traceback": [
      "\u001b[1;31m---------------------------------------------------------------------------\u001b[0m",
      "\u001b[1;31mValueError\u001b[0m                                Traceback (most recent call last)",
      "Cell \u001b[1;32mIn[5], line 11\u001b[0m\n\u001b[0;32m      1\u001b[0m \u001b[38;5;66;03m# Load the dataset\u001b[39;00m\n\u001b[0;32m      2\u001b[0m \u001b[38;5;66;03m# For this demonstration, we'll create the DataFrame directly.\u001b[39;00m\n\u001b[0;32m      3\u001b[0m \u001b[38;5;66;03m# In a real scenario, you would load from a CSV file: df = pd.read_csv('Mall_Customers.csv')\u001b[39;00m\n\u001b[0;32m      4\u001b[0m data \u001b[38;5;241m=\u001b[39m {\n\u001b[0;32m      5\u001b[0m     \u001b[38;5;124m'\u001b[39m\u001b[38;5;124mCustomerID\u001b[39m\u001b[38;5;124m'\u001b[39m: \u001b[38;5;28mrange\u001b[39m(\u001b[38;5;241m1\u001b[39m, \u001b[38;5;241m201\u001b[39m),\n\u001b[0;32m      6\u001b[0m     \u001b[38;5;124m'\u001b[39m\u001b[38;5;124mGender\u001b[39m\u001b[38;5;124m'\u001b[39m: [\u001b[38;5;124m'\u001b[39m\u001b[38;5;124mMale\u001b[39m\u001b[38;5;124m'\u001b[39m, \u001b[38;5;124m'\u001b[39m\u001b[38;5;124mMale\u001b[39m\u001b[38;5;124m'\u001b[39m, \u001b[38;5;124m'\u001b[39m\u001b[38;5;124mFemale\u001b[39m\u001b[38;5;124m'\u001b[39m, \u001b[38;5;124m'\u001b[39m\u001b[38;5;124mFemale\u001b[39m\u001b[38;5;124m'\u001b[39m, \u001b[38;5;124m'\u001b[39m\u001b[38;5;124mFemale\u001b[39m\u001b[38;5;124m'\u001b[39m, \u001b[38;5;124m'\u001b[39m\u001b[38;5;124mFemale\u001b[39m\u001b[38;5;124m'\u001b[39m, \u001b[38;5;124m'\u001b[39m\u001b[38;5;124mFemale\u001b[39m\u001b[38;5;124m'\u001b[39m, \u001b[38;5;124m'\u001b[39m\u001b[38;5;124mFemale\u001b[39m\u001b[38;5;124m'\u001b[39m, \u001b[38;5;124m'\u001b[39m\u001b[38;5;124mMale\u001b[39m\u001b[38;5;124m'\u001b[39m, \u001b[38;5;124m'\u001b[39m\u001b[38;5;124mFemale\u001b[39m\u001b[38;5;124m'\u001b[39m] \u001b[38;5;241m*\u001b[39m \u001b[38;5;241m20\u001b[39m,\n\u001b[1;32m   (...)\u001b[0m\n\u001b[0;32m      9\u001b[0m     \u001b[38;5;124m'\u001b[39m\u001b[38;5;124mSpending Score (1-100)\u001b[39m\u001b[38;5;124m'\u001b[39m: [\u001b[38;5;241m39\u001b[39m, \u001b[38;5;241m81\u001b[39m, \u001b[38;5;241m6\u001b[39m, \u001b[38;5;241m77\u001b[39m, \u001b[38;5;241m40\u001b[39m, \u001b[38;5;241m76\u001b[39m, \u001b[38;5;241m6\u001b[39m, \u001b[38;5;241m94\u001b[39m, \u001b[38;5;241m3\u001b[39m, \u001b[38;5;241m72\u001b[39m, \u001b[38;5;241m14\u001b[39m, \u001b[38;5;241m99\u001b[39m, \u001b[38;5;241m15\u001b[39m, \u001b[38;5;241m77\u001b[39m, \u001b[38;5;241m13\u001b[39m, \u001b[38;5;241m79\u001b[39m, \u001b[38;5;241m35\u001b[39m, \u001b[38;5;241m90\u001b[39m, \u001b[38;5;241m29\u001b[39m, \u001b[38;5;241m95\u001b[39m, \u001b[38;5;241m35\u001b[39m, \u001b[38;5;241m73\u001b[39m, \u001b[38;5;241m5\u001b[39m, \u001b[38;5;241m73\u001b[39m, \u001b[38;5;241m29\u001b[39m, \u001b[38;5;241m83\u001b[39m, \u001b[38;5;241m5\u001b[39m, \u001b[38;5;241m61\u001b[39m, \u001b[38;5;241m31\u001b[39m, \u001b[38;5;241m87\u001b[39m, \u001b[38;5;241m4\u001b[39m, \u001b[38;5;241m63\u001b[39m, \u001b[38;5;241m4\u001b[39m, \u001b[38;5;241m75\u001b[39m, \u001b[38;5;241m32\u001b[39m, \u001b[38;5;241m92\u001b[39m, \u001b[38;5;241m3\u001b[39m, \u001b[38;5;241m61\u001b[39m, \u001b[38;5;241m35\u001b[39m, \u001b[38;5;241m9\u001b[39m, \u001b[38;5;241m36\u001b[39m, \u001b[38;5;241m65\u001b[39m, \u001b[38;5;241m32\u001b[39m, \u001b[38;5;241m98\u001b[39m, \u001b[38;5;241m28\u001b[39m, \u001b[38;5;241m97\u001b[39m, \u001b[38;5;241m34\u001b[39m, \u001b[38;5;241m17\u001b[39m, \u001b[38;5;241m26\u001b[39m, \u001b[38;5;241m55\u001b[39m, \u001b[38;5;241m47\u001b[39m, \u001b[38;5;241m42\u001b[39m, \u001b[38;5;241m52\u001b[39m, \u001b[38;5;241m46\u001b[39m, \u001b[38;5;241m55\u001b[39m, \u001b[38;5;241m41\u001b[39m, \u001b[38;5;241m49\u001b[39m, \u001b[38;5;241m42\u001b[39m, \u001b[38;5;241m51\u001b[39m, \u001b[38;5;241m48\u001b[39m, \u001b[38;5;241m47\u001b[39m, \u001b[38;5;241m59\u001b[39m, \u001b[38;5;241m46\u001b[39m, \u001b[38;5;241m51\u001b[39m, \u001b[38;5;241m43\u001b[39m, \u001b[38;5;241m60\u001b[39m, \u001b[38;5;241m55\u001b[39m, \u001b[38;5;241m47\u001b[39m, \u001b[38;5;241m56\u001b[39m, \u001b[38;5;241m42\u001b[39m, \u001b[38;5;241m59\u001b[39m, \u001b[38;5;241m55\u001b[39m, \u001b[38;5;241m41\u001b[39m, \u001b[38;5;241m53\u001b[39m, \u001b[38;5;241m54\u001b[39m, \u001b[38;5;241m42\u001b[39m, \u001b[38;5;241m58\u001b[39m, \u001b[38;5;241m43\u001b[39m, \u001b[38;5;241m60\u001b[39m, \u001b[38;5;241m50\u001b[39m, \u001b[38;5;241m42\u001b[39m, \u001b[38;5;241m55\u001b[39m, \u001b[38;5;241m45\u001b[39m, \u001b[38;5;241m53\u001b[39m, \u001b[38;5;241m50\u001b[39m, \u001b[38;5;241m48\u001b[39m, \u001b[38;5;241m59\u001b[39m, \u001b[38;5;241m49\u001b[39m, \u001b[38;5;241m40\u001b[39m, \u001b[38;5;241m56\u001b[39m, \u001b[38;5;241m46\u001b[39m, \u001b[38;5;241m56\u001b[39m, \u001b[38;5;241m51\u001b[39m, \u001b[38;5;241m47\u001b[39m, \u001b[38;5;241m43\u001b[39m, \u001b[38;5;241m52\u001b[39m, \u001b[38;5;241m53\u001b[39m, \u001b[38;5;241m49\u001b[39m, \u001b[38;5;241m47\u001b[39m, \u001b[38;5;241m5\u001b[39m, \u001b[38;5;241m14\u001b[39m, \u001b[38;5;241m8\u001b[39m, \u001b[38;5;241m12\u001b[39m, \u001b[38;5;241m1\u001b[39m, \u001b[38;5;241m20\u001b[39m, \u001b[38;5;241m22\u001b[39m, \u001b[38;5;241m16\u001b[39m, \u001b[38;5;241m10\u001b[39m, \u001b[38;5;241m17\u001b[39m, \u001b[38;5;241m26\u001b[39m, \u001b[38;5;241m1\u001b[39m, \u001b[38;5;241m9\u001b[39m, \u001b[38;5;241m20\u001b[39m, \u001b[38;5;241m15\u001b[39m, \u001b[38;5;241m16\u001b[39m, \u001b[38;5;241m24\u001b[39m, \u001b[38;5;241m10\u001b[39m, \u001b[38;5;241m22\u001b[39m, \u001b[38;5;241m29\u001b[39m, \u001b[38;5;241m20\u001b[39m, \u001b[38;5;241m1\u001b[39m, \u001b[38;5;241m18\u001b[39m, \u001b[38;5;241m26\u001b[39m, \u001b[38;5;241m2\u001b[39m, \u001b[38;5;241m8\u001b[39m, \u001b[38;5;241m13\u001b[39m, \u001b[38;5;241m25\u001b[39m, \u001b[38;5;241m7\u001b[39m, \u001b[38;5;241m24\u001b[39m, \u001b[38;5;241m11\u001b[39m, \u001b[38;5;241m22\u001b[39m, \u001b[38;5;241m13\u001b[39m, \u001b[38;5;241m7\u001b[39m, \u001b[38;5;241m28\u001b[39m, \u001b[38;5;241m19\u001b[39m, \u001b[38;5;241m18\u001b[39m, \u001b[38;5;241m91\u001b[39m, \u001b[38;5;241m88\u001b[39m, \u001b[38;5;241m93\u001b[39m, \u001b[38;5;241m87\u001b[39m, \u001b[38;5;241m97\u001b[39m, \u001b[38;5;241m8\u001b[39m, \u001b[38;5;241m14\u001b[39m, \u001b[38;5;241m9\u001b[39m, \u001b[38;5;241m6\u001b[39m, \u001b[38;5;241m17\u001b[39m, \u001b[38;5;241m12\u001b[39m, \u001b[38;5;241m20\u001b[39m, \u001b[38;5;241m24\u001b[39m, \u001b[38;5;241m16\u001b[39m, \u001b[38;5;241m26\u001b[39m, \u001b[38;5;241m1\u001b[39m, \u001b[38;5;241m20\u001b[39m, \u001b[38;5;241m18\u001b[39m, \u001b[38;5;241m1\u001b[39m, \u001b[38;5;241m19\u001b[39m, \u001b[38;5;241m28\u001b[39m, \u001b[38;5;241m22\u001b[39m, \u001b[38;5;241m16\u001b[39m, \u001b[38;5;241m8\u001b[39m, \u001b[38;5;241m15\u001b[39m, \u001b[38;5;241m21\u001b[39m, \u001b[38;5;241m25\u001b[39m, \u001b[38;5;241m11\u001b[39m, \u001b[38;5;241m10\u001b[39m, \u001b[38;5;241m30\u001b[39m, \u001b[38;5;241m25\u001b[39m, \u001b[38;5;241m40\u001b[39m, \u001b[38;5;241m35\u001b[39m, \u001b[38;5;241m45\u001b[39m, \u001b[38;5;241m50\u001b[39m, \u001b[38;5;241m55\u001b[39m, \u001b[38;5;241m60\u001b[39m, \u001b[38;5;241m65\u001b[39m, \u001b[38;5;241m39\u001b[39m, \u001b[38;5;241m81\u001b[39m, \u001b[38;5;241m6\u001b[39m, \u001b[38;5;241m77\u001b[39m, \u001b[38;5;241m40\u001b[39m]\n\u001b[0;32m     10\u001b[0m }\n\u001b[1;32m---> 11\u001b[0m df \u001b[38;5;241m=\u001b[39m pd\u001b[38;5;241m.\u001b[39mDataFrame(data)\n\u001b[0;32m     13\u001b[0m \u001b[38;5;28mprint\u001b[39m(\u001b[38;5;124m\"\u001b[39m\u001b[38;5;124mDataset loaded successfully. Shape:\u001b[39m\u001b[38;5;124m\"\u001b[39m, df\u001b[38;5;241m.\u001b[39mshape)\n\u001b[0;32m     14\u001b[0m \u001b[38;5;28mprint\u001b[39m(\u001b[38;5;124m\"\u001b[39m\u001b[38;5;130;01m\\n\u001b[39;00m\u001b[38;5;124mFirst 5 rows of the data:\u001b[39m\u001b[38;5;124m\"\u001b[39m)\n",
      "File \u001b[1;32mc:\\Users\\alice\\anaconda3\\Lib\\site-packages\\pandas\\core\\frame.py:664\u001b[0m, in \u001b[0;36mDataFrame.__init__\u001b[1;34m(self, data, index, columns, dtype, copy)\u001b[0m\n\u001b[0;32m    658\u001b[0m     mgr \u001b[38;5;241m=\u001b[39m \u001b[38;5;28mself\u001b[39m\u001b[38;5;241m.\u001b[39m_init_mgr(\n\u001b[0;32m    659\u001b[0m         data, axes\u001b[38;5;241m=\u001b[39m{\u001b[38;5;124m\"\u001b[39m\u001b[38;5;124mindex\u001b[39m\u001b[38;5;124m\"\u001b[39m: index, \u001b[38;5;124m\"\u001b[39m\u001b[38;5;124mcolumns\u001b[39m\u001b[38;5;124m\"\u001b[39m: columns}, dtype\u001b[38;5;241m=\u001b[39mdtype, copy\u001b[38;5;241m=\u001b[39mcopy\n\u001b[0;32m    660\u001b[0m     )\n\u001b[0;32m    662\u001b[0m \u001b[38;5;28;01melif\u001b[39;00m \u001b[38;5;28misinstance\u001b[39m(data, \u001b[38;5;28mdict\u001b[39m):\n\u001b[0;32m    663\u001b[0m     \u001b[38;5;66;03m# GH#38939 de facto copy defaults to False only in non-dict cases\u001b[39;00m\n\u001b[1;32m--> 664\u001b[0m     mgr \u001b[38;5;241m=\u001b[39m dict_to_mgr(data, index, columns, dtype\u001b[38;5;241m=\u001b[39mdtype, copy\u001b[38;5;241m=\u001b[39mcopy, typ\u001b[38;5;241m=\u001b[39mmanager)\n\u001b[0;32m    665\u001b[0m \u001b[38;5;28;01melif\u001b[39;00m \u001b[38;5;28misinstance\u001b[39m(data, ma\u001b[38;5;241m.\u001b[39mMaskedArray):\n\u001b[0;32m    666\u001b[0m     \u001b[38;5;28;01mimport\u001b[39;00m \u001b[38;5;21;01mnumpy\u001b[39;00m\u001b[38;5;21;01m.\u001b[39;00m\u001b[38;5;21;01mma\u001b[39;00m\u001b[38;5;21;01m.\u001b[39;00m\u001b[38;5;21;01mmrecords\u001b[39;00m \u001b[38;5;28;01mas\u001b[39;00m \u001b[38;5;21;01mmrecords\u001b[39;00m\n",
      "File \u001b[1;32mc:\\Users\\alice\\anaconda3\\Lib\\site-packages\\pandas\\core\\internals\\construction.py:493\u001b[0m, in \u001b[0;36mdict_to_mgr\u001b[1;34m(data, index, columns, dtype, typ, copy)\u001b[0m\n\u001b[0;32m    489\u001b[0m     \u001b[38;5;28;01melse\u001b[39;00m:\n\u001b[0;32m    490\u001b[0m         \u001b[38;5;66;03m# dtype check to exclude e.g. range objects, scalars\u001b[39;00m\n\u001b[0;32m    491\u001b[0m         arrays \u001b[38;5;241m=\u001b[39m [x\u001b[38;5;241m.\u001b[39mcopy() \u001b[38;5;28;01mif\u001b[39;00m \u001b[38;5;28mhasattr\u001b[39m(x, \u001b[38;5;124m\"\u001b[39m\u001b[38;5;124mdtype\u001b[39m\u001b[38;5;124m\"\u001b[39m) \u001b[38;5;28;01melse\u001b[39;00m x \u001b[38;5;28;01mfor\u001b[39;00m x \u001b[38;5;129;01min\u001b[39;00m arrays]\n\u001b[1;32m--> 493\u001b[0m \u001b[38;5;28;01mreturn\u001b[39;00m arrays_to_mgr(arrays, columns, index, dtype\u001b[38;5;241m=\u001b[39mdtype, typ\u001b[38;5;241m=\u001b[39mtyp, consolidate\u001b[38;5;241m=\u001b[39mcopy)\n",
      "File \u001b[1;32mc:\\Users\\alice\\anaconda3\\Lib\\site-packages\\pandas\\core\\internals\\construction.py:118\u001b[0m, in \u001b[0;36marrays_to_mgr\u001b[1;34m(arrays, columns, index, dtype, verify_integrity, typ, consolidate)\u001b[0m\n\u001b[0;32m    115\u001b[0m \u001b[38;5;28;01mif\u001b[39;00m verify_integrity:\n\u001b[0;32m    116\u001b[0m     \u001b[38;5;66;03m# figure out the index, if necessary\u001b[39;00m\n\u001b[0;32m    117\u001b[0m     \u001b[38;5;28;01mif\u001b[39;00m index \u001b[38;5;129;01mis\u001b[39;00m \u001b[38;5;28;01mNone\u001b[39;00m:\n\u001b[1;32m--> 118\u001b[0m         index \u001b[38;5;241m=\u001b[39m _extract_index(arrays)\n\u001b[0;32m    119\u001b[0m     \u001b[38;5;28;01melse\u001b[39;00m:\n\u001b[0;32m    120\u001b[0m         index \u001b[38;5;241m=\u001b[39m ensure_index(index)\n",
      "File \u001b[1;32mc:\\Users\\alice\\anaconda3\\Lib\\site-packages\\pandas\\core\\internals\\construction.py:666\u001b[0m, in \u001b[0;36m_extract_index\u001b[1;34m(data)\u001b[0m\n\u001b[0;32m    664\u001b[0m lengths \u001b[38;5;241m=\u001b[39m \u001b[38;5;28mlist\u001b[39m(\u001b[38;5;28mset\u001b[39m(raw_lengths))\n\u001b[0;32m    665\u001b[0m \u001b[38;5;28;01mif\u001b[39;00m \u001b[38;5;28mlen\u001b[39m(lengths) \u001b[38;5;241m>\u001b[39m \u001b[38;5;241m1\u001b[39m:\n\u001b[1;32m--> 666\u001b[0m     \u001b[38;5;28;01mraise\u001b[39;00m \u001b[38;5;167;01mValueError\u001b[39;00m(\u001b[38;5;124m\"\u001b[39m\u001b[38;5;124mAll arrays must be of the same length\u001b[39m\u001b[38;5;124m\"\u001b[39m)\n\u001b[0;32m    668\u001b[0m \u001b[38;5;28;01mif\u001b[39;00m have_dicts:\n\u001b[0;32m    669\u001b[0m     \u001b[38;5;28;01mraise\u001b[39;00m \u001b[38;5;167;01mValueError\u001b[39;00m(\n\u001b[0;32m    670\u001b[0m         \u001b[38;5;124m\"\u001b[39m\u001b[38;5;124mMixing dicts with non-Series may lead to ambiguous ordering.\u001b[39m\u001b[38;5;124m\"\u001b[39m\n\u001b[0;32m    671\u001b[0m     )\n",
      "\u001b[1;31mValueError\u001b[0m: All arrays must be of the same length"
     ]
    }
   ],
   "source": [
    "# Load the dataset\n",
    "# For this demonstration, we'll create the DataFrame directly.\n",
    "# In a real scenario, you would load from a CSV file: df = pd.read_csv('Mall_Customers.csv')\n",
    "data = {\n",
    "    'CustomerID': range(1, 201),\n",
    "    'Gender': ['Male', 'Male', 'Female', 'Female', 'Female', 'Female', 'Female', 'Female', 'Male', 'Female'] * 20,\n",
    "    'Age': [19, 21, 20, 23, 31, 22, 35, 23, 64, 30, 67, 35, 58, 24, 37, 22, 35, 20, 52, 35, 35, 25, 46, 31, 54, 29, 45, 35, 40, 23, 60, 21, 53, 28, 49, 42, 36, 20, 65, 48, 49, 31, 50, 24, 39, 42, 27, 29, 31, 59, 50, 54, 28, 47, 48, 40, 27, 45, 53, 63, 68, 59, 67, 70, 57, 60, 54, 67, 56, 47, 66, 68, 51, 59, 48, 52, 43, 69, 57, 46, 69, 48, 32, 55, 26, 39, 44, 32, 38, 26, 31, 33, 66, 32, 47, 22, 41, 42, 34, 30, 20, 25, 33, 19, 21, 27, 27, 28, 29, 31, 32, 34, 35, 36, 38, 39, 40, 41, 42, 43, 44, 45, 46, 47, 48, 49, 50, 51, 52, 53, 54, 55, 56, 57, 58, 59, 60, 61, 62, 63, 64, 65, 66, 67, 68, 69, 70, 23, 25, 32, 35, 36, 38, 40, 41, 42, 44, 45, 46, 48, 50, 51, 52, 54, 55, 56, 58, 59, 60, 62, 63, 65, 66, 68, 70, 18, 19, 20, 21, 22, 23, 24, 25, 26, 27, 66, 68, 70, 18, 19, 20, 21, 22, 23, 24, 25, 26, 27, 26, 27],\n",
    "    'Annual Income (k$)': [15, 15, 16, 16, 17, 17, 18, 18, 19, 19, 19, 19, 20, 20, 20, 20, 21, 21, 23, 23, 24, 24, 25, 25, 28, 28, 28, 28, 29, 30, 33, 33, 33, 34, 34, 37, 38, 39, 39, 40, 40, 40, 42, 43, 43, 43, 44, 46, 46, 47, 48, 48, 48, 49, 49, 50, 50, 54, 54, 54, 54, 57, 58, 59, 60, 60, 60, 61, 62, 62, 62, 62, 63, 63, 63, 63, 64, 65, 65, 65, 67, 67, 67, 69, 70, 71, 71, 71, 71, 72, 73, 73, 74, 75, 75, 76, 76, 77, 78, 78, 78, 78, 78, 78, 79, 81, 81, 85, 86, 86, 87, 87, 88, 88, 93, 93, 97, 98, 99, 101, 101, 103, 103, 103, 113, 120, 120, 126, 126, 137, 60, 61, 62, 63, 64, 65, 67, 69, 70, 71, 72, 73, 75, 76, 77, 78, 79, 80, 81, 83, 85, 86, 87, 88, 90, 93, 95, 98, 100, 103, 105, 110, 115, 120, 125, 130, 135, 15, 15, 16, 16, 17, 17, 18, 18, 19, 19, 20, 20, 21, 21, 23, 23, 24, 24, 25, 25, 28, 28, 29, 30, 33, 33, 34, 37, 38, 39, 37, 38, 39],\n",
    "    'Spending Score (1-100)': [39, 81, 6, 77, 40, 76, 6, 94, 3, 72, 14, 99, 15, 77, 13, 79, 35, 90, 29, 95, 35, 73, 5, 73, 29, 83, 5, 61, 31, 87, 4, 63, 4, 75, 32, 92, 3, 61, 35, 9, 36, 65, 32, 98, 28, 97, 34, 17, 26, 55, 47, 42, 52, 46, 55, 41, 49, 42, 51, 48, 47, 59, 46, 51, 43, 60, 55, 47, 56, 42, 59, 55, 41, 53, 54, 42, 58, 43, 60, 50, 42, 55, 45, 53, 50, 48, 59, 49, 40, 56, 46, 56, 51, 47, 43, 52, 53, 49, 47, 5, 14, 8, 12, 1, 20, 22, 16, 10, 17, 26, 1, 9, 20, 15, 16, 24, 10, 22, 29, 20, 1, 18, 26, 2, 8, 13, 25, 7, 24, 11, 22, 13, 7, 28, 19, 18, 91, 88, 93, 87, 97, 8, 14, 9, 6, 17, 12, 20, 24, 16, 26, 1, 20, 18, 1, 19, 28, 22, 16, 8, 15, 21, 25, 11, 10, 30, 25, 40, 35, 45, 50, 55, 60, 65, 39, 81, 6, 77, 40, 8, 15, 21, 25, 11, 10, 30, 25, 40, 35, 45, 50, 55, 60, 65, 39, 81, 6, 77, 40, 40]\n",
    "}\n",
    "df = pd.DataFrame(data)\n",
    "\n",
    "print(\"Dataset loaded successfully. Shape:\", df.shape)\n",
    "print(\"\\nFirst 5 rows of the data:\")\n",
    "print(df.head())\n",
    "print(\"\\nDataset Information:\")\n",
    "df.info()"
   ]
  },
  {
   "cell_type": "code",
   "execution_count": null,
   "id": "c2d0fdf4",
   "metadata": {},
   "outputs": [
    {
     "data": {
      "text/plain": [
       "200"
      ]
     },
     "execution_count": 13,
     "metadata": {},
     "output_type": "execute_result"
    }
   ],
   "source": []
  },
  {
   "cell_type": "markdown",
   "id": "a0384d21",
   "metadata": {},
   "source": [
    "**1.1. EDA Visualizations**"
   ]
  },
  {
   "cell_type": "code",
   "execution_count": null,
   "id": "a9f65b37",
   "metadata": {},
   "outputs": [
    {
     "ename": "NameError",
     "evalue": "name 'sns' is not defined",
     "output_type": "error",
     "traceback": [
      "\u001b[1;31m---------------------------------------------------------------------------\u001b[0m",
      "\u001b[1;31mNameError\u001b[0m                                 Traceback (most recent call last)",
      "Cell \u001b[1;32mIn[1], line 3\u001b[0m\n\u001b[0;32m      1\u001b[0m \u001b[38;5;66;03m# Pairplot to see relationships between features\u001b[39;00m\n\u001b[0;32m      2\u001b[0m \u001b[38;5;66;03m# We'll use a sample to keep the plot clean and fast.\u001b[39;00m\n\u001b[1;32m----> 3\u001b[0m sns\u001b[38;5;241m.\u001b[39mpairplot(df[[\u001b[38;5;124m'\u001b[39m\u001b[38;5;124mAge\u001b[39m\u001b[38;5;124m'\u001b[39m, \u001b[38;5;124m'\u001b[39m\u001b[38;5;124mAnnual Income (k$)\u001b[39m\u001b[38;5;124m'\u001b[39m, \u001b[38;5;124m'\u001b[39m\u001b[38;5;124mSpending Score (1-100)\u001b[39m\u001b[38;5;124m'\u001b[39m]], kind\u001b[38;5;241m=\u001b[39m\u001b[38;5;124m'\u001b[39m\u001b[38;5;124mscatter\u001b[39m\u001b[38;5;124m'\u001b[39m)\n\u001b[0;32m      4\u001b[0m plt\u001b[38;5;241m.\u001b[39msuptitle(\u001b[38;5;124m'\u001b[39m\u001b[38;5;124mPairplot of Customer Features\u001b[39m\u001b[38;5;124m'\u001b[39m, y\u001b[38;5;241m=\u001b[39m\u001b[38;5;241m1.02\u001b[39m)\n\u001b[0;32m      5\u001b[0m plt\u001b[38;5;241m.\u001b[39mshow()\n",
      "\u001b[1;31mNameError\u001b[0m: name 'sns' is not defined"
     ]
    }
   ],
   "source": [
    "# Pairplot to see relationships between features\n",
    "# We'll use a sample to keep the plot clean and fast.\n",
    "sns.pairplot(df[['Age', 'Annual Income (k$)', 'Spending Score (1-100)']], kind='scatter')\n",
    "plt.suptitle('Pairplot of Customer Features', y=1.02)\n",
    "plt.show()\n",
    "\n",
    "# Histograms for distributions\n",
    "plt.figure(figsize=(15, 5))\n",
    "\n",
    "plt.subplot(1, 3, 1)\n",
    "sns.histplot(df['Age'], kde=True, bins=20)\n",
    "plt.title('Age Distribution')\n",
    "\n",
    "plt.subplot(1, 3, 2)\n",
    "sns.histplot(df['Annual Income (k$)'], kde=True, bins=20)\n",
    "plt.title('Annual Income Distribution')\n",
    "\n",
    "plt.subplot(1, 3, 3)\n",
    "sns.histplot(df['Spending Score (1-100)'], kde=True, bins=20)\n",
    "plt.title('Spending Score Distribution')\n",
    "\n",
    "plt.tight_layout()\n",
    "plt.show()"
   ]
  },
  {
   "cell_type": "markdown",
   "id": "0872becd",
   "metadata": {},
   "source": [
    "---\n",
    "### **Step 2: Feature Selection and Scaling**\n",
    "---\n",
    "For clear segmentation, we will focus on `Annual Income` and `Spending Score`."
   ]
  },
  {
   "cell_type": "code",
   "execution_count": null,
   "id": "bede2a37",
   "metadata": {},
   "outputs": [],
   "source": [
    "# Select the features for clustering\n",
    "X = df[['Annual Income (k$)', 'Spending Score (1-100)']].copy()\n",
    "\n",
    "# Scale the features\n",
    "scaler = StandardScaler()\n",
    "X_scaled = scaler.fit_transform(X)\n",
    "\n",
    "# Convert scaled data back to a DataFrame for clarity (optional)\n",
    "X_scaled_df = pd.DataFrame(X_scaled, columns=X.columns)\n",
    "\n",
    "print(\"First 5 rows of scaled data:\")\n",
    "print(X_scaled_df.head())"
   ]
  },
  {
   "cell_type": "markdown",
   "id": "5c2159b3",
   "metadata": {},
   "source": [
    "---\n",
    "### **Step 3: Determining the Optimal Number of Clusters (Elbow Method)**\n",
    "---"
   ]
  },
  {
   "cell_type": "code",
   "execution_count": null,
   "id": "7b4c3109",
   "metadata": {},
   "outputs": [],
   "source": [
    "# Calculate Within-Cluster Sum of Squares (WCSS) for a range of k values\n",
    "wcss = []\n",
    "k_range = range(1, 11)\n",
    "\n",
    "for k in k_range:\n",
    "    kmeans = KMeans(n_clusters=k, init='k-means++', random_state=42, n_init='auto')\n",
    "    kmeans.fit(X_scaled)\n",
    "    wcss.append(kmeans.inertia_) # inertia_ is the WCSS\n",
    "\n",
    "# Plot the Elbow Method graph\n",
    "plt.figure(figsize=(10, 6))\n",
    "plt.plot(k_range, wcss, marker='o', linestyle='--')\n",
    "plt.title('Elbow Method for Optimal k')\n",
    "plt.xlabel('Number of Clusters (k)')\n",
    "plt.ylabel('WCSS')\n",
    "plt.xticks(k_range)\n",
    "plt.show()"
   ]
  },
  {
   "cell_type": "markdown",
   "id": "af418b88",
   "metadata": {},
   "source": [
    "**Analysis of the Elbow Method:** The plot shows a clear \"elbow\" at **k=5**. After this point, the decrease in WCSS becomes much less significant. Therefore, 5 is the optimal number of clusters for this dataset.\n",
    "\n",
    "---\n",
    "### **Step 4: Building the K-Means Clustering Model**\n",
    "---\n",
    "Now we train the model with k=5.\n"
   ]
  },
  {
   "cell_type": "code",
   "execution_count": null,
   "id": "b6f58a38",
   "metadata": {},
   "outputs": [],
   "source": [
    "optimal_k = 5\n",
    "kmeans = KMeans(n_clusters=optimal_k, init='k-means++', random_state=42, n_init='auto')\n",
    "\n",
    "# Fit the model and predict the clusters\n",
    "clusters = kmeans.fit_predict(X_scaled)\n",
    "\n",
    "# Add the cluster information back to the original DataFrame\n",
    "df['Segment'] = clusters\n",
    "\n",
    "print(\"\\nFirst 5 rows with segment information:\")\n",
    "print(df.head())"
   ]
  },
  {
   "cell_type": "markdown",
   "id": "6a653c5d",
   "metadata": {},
   "source": [
    "---\n",
    "### **Step 5: Visualizing, Interpreting, and Proposing Marketing Strategies**\n",
    "---\n",
    "**5.1. Visualize the Segments**"
   ]
  },
  {
   "cell_type": "code",
   "execution_count": null,
   "id": "9b3de2c9",
   "metadata": {},
   "outputs": [],
   "source": [
    "plt.figure(figsize=(12, 8))\n",
    "sns.scatterplot(x='Annual Income (k$)', y='Spending Score (1-100)', hue='Segment', data=df, palette='viridis', s=100, alpha=0.8, legend='full')\n",
    "\n",
    "# Plot the centroids\n",
    "centroids = scaler.inverse_transform(kmeans.cluster_centers_)\n",
    "plt.scatter(centroids[:, 0], centroids[:, 1], s=300, c='red', marker='X', label='Centroids')\n",
    "\n",
    "plt.title('Customer Segments')\n",
    "plt.xlabel('Annual Income (k$)')\n",
    "plt.ylabel('Spending Score (1-100)')\n",
    "plt.legend()\n",
    "plt.show()"
   ]
  },
  {
   "cell_type": "markdown",
   "id": "58488b9b",
   "metadata": {},
   "source": [
    "**5.2. Interpret the Segments and Propose Marketing Strategies**\n",
    "\n",
    "Now, we analyze each segment's characteristics to create personas and propose targeted lending strategies.\n"
   ]
  },
  {
   "cell_type": "code",
   "execution_count": null,
   "id": "0363de46",
   "metadata": {},
   "outputs": [],
   "source": [
    "# Let's rename the segments for better interpretation based on the plot.\n",
    "# First, find the mapping from the numeric label to our descriptive persona.\n",
    "segment_centers = pd.DataFrame(scaler.inverse_transform(kmeans.cluster_centers_), columns=['Annual Income (k$)', 'Spending Score (1-100)'])\n",
    "\n",
    "# Sort by income and spending to create a consistent mapping\n",
    "segment_centers['Persona'] = ['' for i in range(optimal_k)]\n",
    "# High Income, High Spending -> High Rollers\n",
    "segment_centers.loc[segment_centers.sort_values('Annual Income (k$)', ascending=False).head(2).sort_values('Spending Score (1-100)', ascending=False).index[0], 'Persona'] = 'High Rollers'\n",
    "# High Income, Low Spending -> Savers\n",
    "segment_centers.loc[segment_centers.sort_values('Annual Income (k$)', ascending=False).head(2).sort_values('Spending Score (1-100)', ascending=True).index[0], 'Persona'] = 'Savers'\n",
    "# Low Income, High Spending -> Potential\n",
    "segment_centers.loc[segment_centers.sort_values('Annual Income (k$)', ascending=True).head(2).sort_values('Spending Score (1-100)', ascending=False).index[0], 'Persona'] = 'Young Potential'\n",
    "# Low Income, Low Spending -> Cautious\n",
    "segment_centers.loc[segment_centers.sort_values('Annual Income (k$)', ascending=True).head(2).sort_values('Spending Score (1-100)', ascending=True).index[0], 'Persona'] = 'Cautious'\n",
    "# Middle Group -> Mainstream\n",
    "segment_centers.loc[segment_centers['Persona'] == '', 'Persona'] = 'Mainstream'\n",
    "\n",
    "segment_mapping = segment_centers['Persona'].to_dict()\n",
    "df['Segment_Persona'] = df['Segment'].map(segment_mapping)\n",
    "\n",
    "print(\"Segment Personas and Their Characteristics:\")\n",
    "print(df.groupby('Segment_Persona')[['Age', 'Annual Income (k$)', 'Spending Score (1-100)']].mean().round(2))\n"
   ]
  },
  {
   "cell_type": "markdown",
   "id": "0df0cdc4",
   "metadata": {},
   "source": [
    "### Proposed Marketing Strategies for Lending Products\n",
    "\n",
    "| Persona           | Characteristics                               | Proposed Lending Product & Marketing Strategy                                                                                                                              |\n",
    "| ----------------- | --------------------------------------------- | -------------------------------------------------------------------------------------------------------------------------------------------------------------------------- |\n",
    "| **High Rollers** | High Income, High Spending Score              | **Product:** Premium Rewards Credit Cards, High-limit Personal Loans. <br> **Strategy:** Market exclusive travel benefits, high cashback on luxury goods, and concierge services. Offer pre-approved, high-value personal loans for investments or large purchases. |\n",
    "| **Savers** | High Income, Low Spending Score               | **Product:** High-Yield Savings Accounts, Investment Services (e.g., `FutureVest`), Home Mortgages. <br> **Strategy:** Target with marketing focused on wealth growth, retirement planning, and long-term financial security. Offer competitive mortgage rates for property investment. |\n",
    "| **Mainstream** | Average Income, Average Spending Score        | **Product:** Standard Cashback Credit Cards, Auto Loans, Home Improvement Loans. <br> **Strategy:** Focus on practical benefits like 0% intro APR on credit cards, reliable auto financing, and accessible loans for home upgrades. Emphasize value and affordability. |\n",
    "| **Young Potential** | Low Income, High Spending Score             | **Product:** Entry-Level Credit Cards, Personal Lines of Credit. <br> **Strategy:** Offer credit-builder cards with clear terms. Market small, manageable lines of credit for short-term needs. Focus on financial education and building a long-term relationship. |\n",
    "| **Cautious** | Low Income, Low Spending Score                | **Product:** Secured Credit Cards, Financial Literacy Workshops. <br> **Strategy:** This group is risk-averse. Build trust by offering secure products that help establish credit safely. Marketing should be educational and supportive, not aggressive. |\n"
   ]
  },
  {
   "cell_type": "markdown",
   "id": "274289f1",
   "metadata": {},
   "source": [
    "---\n",
    "### **Step 6: Conclusion**\n",
    "---\n",
    "\n",
    "This project successfully demonstrated the use of K-Means clustering to perform customer segmentation.\n",
    "\n",
    "* We identified **5 distinct customer segments** based on their income and spending habits.\n",
    "* By creating data-driven personas for each segment, we were able to move beyond simple data analysis to actionable business insights.\n",
    "* We proposed a set of **targeted marketing strategies** for lending products, showcasing how this analysis can directly inform business decisions and increase marketing efficiency.\n",
    "\n",
    "This end-to-end process highlights the ability to transform raw data into a strategic asset.\n",
    "\n"
   ]
  },
  {
   "cell_type": "code",
   "execution_count": null,
   "id": "c9587ecb",
   "metadata": {},
   "outputs": [],
   "source": []
  }
 ],
 "metadata": {
  "kernelspec": {
   "display_name": "base",
   "language": "python",
   "name": "python3"
  },
  "language_info": {
   "codemirror_mode": {
    "name": "ipython",
    "version": 3
   },
   "file_extension": ".py",
   "mimetype": "text/x-python",
   "name": "python",
   "nbconvert_exporter": "python",
   "pygments_lexer": "ipython3",
   "version": "3.11.4"
  }
 },
 "nbformat": 4,
 "nbformat_minor": 5
}
